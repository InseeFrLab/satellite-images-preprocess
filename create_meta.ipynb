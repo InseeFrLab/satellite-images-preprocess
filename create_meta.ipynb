{
 "cells": [
  {
   "cell_type": "code",
   "execution_count": 1,
   "metadata": {},
   "outputs": [],
   "source": [
    "from astrovision.data.satellite_image import (\n",
    "    SatelliteImage,\n",
    ")\n",
    "from datetime import datetime, timezone"
   ]
  },
  {
   "cell_type": "code",
   "execution_count": 2,
   "metadata": {},
   "outputs": [],
   "source": [
    "import s3fs\n",
    "import os\n",
    "\n",
    "fs = s3fs.S3FileSystem(\n",
    "    client_kwargs={'endpoint_url': 'https://'+'minio.lab.sspcloud.fr'},\n",
    "    key = os.environ[\"AWS_ACCESS_KEY_ID\"], \n",
    "    secret = os.environ[\"AWS_SECRET_ACCESS_KEY\"], \n",
    "    token = os.environ[\"AWS_SESSION_TOKEN\"])\n"
   ]
  },
  {
   "cell_type": "code",
   "execution_count": 3,
   "metadata": {},
   "outputs": [],
   "source": [
    "import boto3\n",
    "s3 = boto3.client(\"s3\",endpoint_url = 'https://'+'minio.lab.sspcloud.fr',\n",
    "                  aws_access_key_id= os.environ[\"AWS_ACCESS_KEY_ID\"], \n",
    "                  aws_secret_access_key= os.environ[\"AWS_SECRET_ACCESS_KEY\"], \n",
    "                  aws_session_token = os.environ[\"AWS_SESSION_TOKEN\"])"
   ]
  },
  {
   "cell_type": "code",
   "execution_count": 18,
   "metadata": {},
   "outputs": [],
   "source": [
    "# Recuperer les métas d'un fichier\n",
    "\n",
    "bucket_name = \"projet-slums-detection\"\n",
    "file = 'data-raw/PLEIADES/GUYANE_brut/2024_meta/IMG_PHR1A_PMS-N_202402251358470_ORT_PHR_PRO_FOP760ad51fbb517_20241008193335117_1_1_R1C3.tif'\n",
    "\n",
    "existing_metadata = s3.head_object(Bucket=bucket_name, Key=file).get('Metadata', {})\n",
    "\n",
    "# les bb\n",
    "bb_image = existing_metadata['x-amz-meta-bounding_box']"
   ]
  },
  {
   "cell_type": "code",
   "execution_count": 4,
   "metadata": {},
   "outputs": [
    {
     "name": "stdout",
     "output_type": "stream",
     "text": [
      "Nombre total de fichiers : 1375\n"
     ]
    }
   ],
   "source": [
    "# Définition du bucket et du dossier à lister\n",
    "bucket_name = \"projet-slums-detection\"\n",
    "s3_directory = \"data-raw/PLEIADES/GUYANE_brut/2024/\"\n",
    "\n",
    "# Utilisation du paginator pour récupérer tous les fichiers\n",
    "paginator = s3.get_paginator(\"list_objects_v2\")\n",
    "pages = paginator.paginate(Bucket=bucket_name, Prefix=s3_directory)\n",
    "\n",
    "# Récupération de tous les fichiers\n",
    "file_keys = []\n",
    "for page in pages:\n",
    "    if \"Contents\" in page:\n",
    "        file_keys.extend(obj[\"Key\"] for obj in page[\"Contents\"])\n",
    "\n",
    "# Afficher le nombre total de fichiers trouvés\n",
    "print(f\"Nombre total de fichiers : {len(file_keys)}\")\n",
    "\n"
   ]
  },
  {
   "cell_type": "code",
   "execution_count": 54,
   "metadata": {},
   "outputs": [
    {
     "name": "stderr",
     "output_type": "stream",
     "text": [
      "  3%|▎         | 38/1375 [06:21<2:20:16,  6.29s/it]"
     ]
    }
   ],
   "source": [
    "bounds = {}\n",
    "crs = {}\n",
    "error_files = []\n",
    "meta_files = []\n",
    "\n",
    "for file_key in tqdm(file_keys):\n",
    "    try :\n",
    "        image = SatelliteImage.from_raster(\n",
    "                            file_path=f\"/vsis3/{bucket_name}/{file_key}\",\n",
    "                        )\n",
    "    except:\n",
    "        error_files.append(file_key)\n",
    "    else:\n",
    "        bounds[file_key] = str(image.bounds)\n",
    "        crs[file_key] = str(image.crs)\n",
    "        meta_files.append(file_key)\n"
   ]
  },
  {
   "cell_type": "code",
   "execution_count": null,
   "metadata": {},
   "outputs": [],
   "source": [
    "s3_directory_meta = s3_directory[:-1] + \"_meta/\" \n",
    "for file_key in tqdm(meta_files):\n",
    "    new_file = s3_directory_meta + file_key.split('/')[-1]\n",
    "\n",
    "    # Nouvelles métadonnées à ajouter\n",
    "    dt = s3.head_object(Bucket=bucket_name, Key=file_key).get('LastModified')\n",
    "    formatted_date = str(dt.replace(microsecond=300000).isoformat())\n",
    "\n",
    "    new_metadata = {\n",
    "        \"x-amz-meta-bounding_box\": bounds[file_key],\n",
    "        \"x-amz-meta-date\": formatted_date,\n",
    "        \"x-amz-meta-crs\": crs[file_key]\n",
    "    }\n",
    "\n",
    "    # Étape 1 : Récupérer les métadonnées existantes\n",
    "    existing_metadata = s3.head_object(Bucket=bucket_name, Key=file_key).get('Metadata', {})\n",
    "\n",
    "    # Étape 2 : Ajouter les nouvelles métadonnées aux existantes\n",
    "    combined_metadata = existing_metadata.copy()\n",
    "    # Convertir les valeurs des tuples en chaînes\n",
    "    combined_metadata[\"x-amz-meta-bounding_box\"] = str(new_metadata[\"x-amz-meta-bounding_box\"])\n",
    "    combined_metadata[\"x-amz-meta-date\"] = str(new_metadata[\"x-amz-meta-date\"])\n",
    "    combined_metadata[\"x-amz-meta-crs\"] = str(new_metadata[\"x-amz-meta-crs\"])\n",
    "\n",
    "    \n",
    "    # Étape 3 : Copier le fichier avec les nouvelles métadonnées\n",
    "    s3.copy_object(\n",
    "        Bucket=bucket_name,\n",
    "        CopySource={'Bucket': bucket_name, 'Key': file_key},\n",
    "        Key=new_file,  # Ou remplacer avec le même nom pour écraser l'objet\n",
    "        Metadata=combined_metadata,\n",
    "        MetadataDirective='REPLACE'  # Remplacer les métadonnées existantes\n",
    "    )\n",
    "\n"
   ]
  }
 ],
 "metadata": {
  "kernelspec": {
   "display_name": "base",
   "language": "python",
   "name": "python3"
  },
  "language_info": {
   "codemirror_mode": {
    "name": "ipython",
    "version": 3
   },
   "file_extension": ".py",
   "mimetype": "text/x-python",
   "name": "python",
   "nbconvert_exporter": "python",
   "pygments_lexer": "ipython3",
   "version": "3.12.7"
  }
 },
 "nbformat": 4,
 "nbformat_minor": 2
}
